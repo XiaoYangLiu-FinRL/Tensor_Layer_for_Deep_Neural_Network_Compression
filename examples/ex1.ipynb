{
 "cells": [
  {
   "cell_type": "code",
   "execution_count": 1,
   "metadata": {},
   "outputs": [
    {
     "name": "stderr",
     "output_type": "stream",
     "text": [
      "Using numpy backend.\n"
     ]
    }
   ],
   "source": [
    "import sys\n",
    "sys.path.append('..')\n",
    "from common import *\n",
    "from decomposition import *\n",
    "from nets import *"
   ]
  },
  {
   "cell_type": "code",
   "execution_count": 2,
   "metadata": {},
   "outputs": [],
   "source": [
    "model = LeNet()"
   ]
  },
  {
   "cell_type": "code",
   "execution_count": 3,
   "metadata": {},
   "outputs": [
    {
     "name": "stdout",
     "output_type": "stream",
     "text": [
      "==> Loading data..\n",
      "==> Building model..\n",
      "LeNet(\n",
      "  (features): Sequential(\n",
      "    (0): Sequential(\n",
      "      (0): Conv2d(1, 1, kernel_size=(1, 1), stride=(1, 1), bias=False)\n",
      "      (1): Conv2d(1, 11, kernel_size=(3, 3), stride=(1, 1), bias=False)\n",
      "      (2): Conv2d(11, 32, kernel_size=(1, 1), stride=(1, 1))\n",
      "    )\n",
      "    (1): ReLU(inplace=True)\n",
      "    (2): Sequential(\n",
      "      (0): Conv2d(32, 11, kernel_size=(1, 1), stride=(1, 1), bias=False)\n",
      "      (1): Conv2d(11, 22, kernel_size=(3, 3), stride=(1, 1), bias=False)\n",
      "      (2): Conv2d(22, 64, kernel_size=(1, 1), stride=(1, 1))\n",
      "    )\n",
      "    (3): ReLU(inplace=True)\n",
      "    (4): MaxPool2d(kernel_size=2, stride=2, padding=0, dilation=1, ceil_mode=False)\n",
      "  )\n",
      "  (classifier): Sequential(\n",
      "    (0): Dropout(p=0.25, inplace=False)\n",
      "    (1): Linear(in_features=9216, out_features=128, bias=True)\n",
      "    (2): ReLU(inplace=True)\n",
      "    (3): Dropout(p=0.5, inplace=False)\n",
      "    (4): Linear(in_features=128, out_features=10, bias=True)\n",
      "  )\n",
      ")\n",
      "==> Done\n",
      "\n",
      "Epoch:  0\n",
      "|"
     ]
    },
    {
     "name": "stderr",
     "output_type": "stream",
     "text": [
      "Using pytorch backend.\n"
     ]
    },
    {
     "name": "stdout",
     "output_type": "stream",
     "text": [
      "===============================================| Accuracy: 90.425 %  54255 / 60000\n",
      "|==========| Accuracy: 97.72 %  9772 / 10000\n",
      "The inference time is 6.332911014556885 seconds\n",
      "This epoch took 115.16019606590271 seconds to train\n",
      "Current learning rate:  0.05\n",
      "Best training accuracy overall:  0.9772\n",
      "|==========| Accuracy: 97.72 %  9772 / 10000\n",
      "The inference time is 6.296205997467041 seconds\n"
     ]
    }
   ],
   "source": [
    "run_all('mnist', model, decomp='tucker', i=1, rate=0.05)"
   ]
  },
  {
   "cell_type": "code",
   "execution_count": null,
   "metadata": {},
   "outputs": [],
   "source": []
  }
 ],
 "metadata": {
  "kernelspec": {
   "display_name": "Python 3",
   "language": "python",
   "name": "python3"
  },
  "language_info": {
   "codemirror_mode": {
    "name": "ipython",
    "version": 3
   },
   "file_extension": ".py",
   "mimetype": "text/x-python",
   "name": "python",
   "nbconvert_exporter": "python",
   "pygments_lexer": "ipython3",
   "version": "3.7.6"
  }
 },
 "nbformat": 4,
 "nbformat_minor": 4
}
